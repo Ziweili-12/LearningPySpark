{
 "cells": [
  {
   "cell_type": "code",
   "execution_count": 1,
   "metadata": {},
   "outputs": [],
   "source": [
    "import findspark\n",
    "findspark.init()\n",
    "from pyspark import SparkContext, SparkConf\n",
    "from pyspark.sql import SparkSession\n",
    "sc=SparkContext()\n",
    "spark = SparkSession(sparkContext=sc)"
   ]
  },
  {
   "cell_type": "markdown",
   "metadata": {},
   "source": [
    "# Column Expression"
   ]
  },
  {
   "cell_type": "markdown",
   "metadata": {},
   "source": [
    "**select()** , **groupby()**, **orderby()** from pyspark.sql.DataFrame\n",
    "\n",
    "## Load data"
   ]
  },
  {
   "cell_type": "code",
   "execution_count": 2,
   "metadata": {},
   "outputs": [
    {
     "name": "stdout",
     "output_type": "stream",
     "text": [
      "+-----------------+----+---+-----+---+----+-----+-----+---+---+----+----+\n",
      "|            model| mpg|cyl| disp| hp|drat|   wt| qsec| vs| am|gear|carb|\n",
      "+-----------------+----+---+-----+---+----+-----+-----+---+---+----+----+\n",
      "|        Mazda RX4|21.0|  6|160.0|110| 3.9| 2.62|16.46|  0|  1|   4|   4|\n",
      "|    Mazda RX4 Wag|21.0|  6|160.0|110| 3.9|2.875|17.02|  0|  1|   4|   4|\n",
      "|       Datsun 710|22.8|  4|108.0| 93|3.85| 2.32|18.61|  1|  1|   4|   1|\n",
      "|   Hornet 4 Drive|21.4|  6|258.0|110|3.08|3.215|19.44|  1|  0|   3|   1|\n",
      "|Hornet Sportabout|18.7|  8|360.0|175|3.15| 3.44|17.02|  0|  0|   3|   2|\n",
      "+-----------------+----+---+-----+---+----+-----+-----+---+---+----+----+\n",
      "only showing top 5 rows\n",
      "\n"
     ]
    }
   ],
   "source": [
    "mtcars = spark.read.csv('../../data/mtcars.csv',inferSchema=True,header=True)\n",
    "mtcars = mtcars.withColumnRenamed(\"_c0\",'model')\n",
    "mtcars.show(5)"
   ]
  },
  {
   "cell_type": "markdown",
   "metadata": {},
   "source": [
    "## Use dot(.) to select column from DataFrame"
   ]
  },
  {
   "cell_type": "code",
   "execution_count": 3,
   "metadata": {},
   "outputs": [
    {
     "data": {
      "text/plain": [
       "Column<b'mpg'>"
      ]
     },
     "execution_count": 3,
     "metadata": {},
     "output_type": "execute_result"
    }
   ],
   "source": [
    "mpg_col = mtcars.mpg\n",
    "mpg_col"
   ]
  },
  {
   "cell_type": "code",
   "execution_count": 4,
   "metadata": {},
   "outputs": [
    {
     "name": "stdout",
     "output_type": "stream",
     "text": [
      "+-----------+\n",
      "|(mpg * 100)|\n",
      "+-----------+\n",
      "|     2100.0|\n",
      "|     2100.0|\n",
      "|     2280.0|\n",
      "|     2140.0|\n",
      "|     1870.0|\n",
      "+-----------+\n",
      "only showing top 5 rows\n",
      "\n"
     ]
    }
   ],
   "source": [
    "mtcars.select(mpg_col * 100).show(5)"
   ]
  },
  {
   "cell_type": "markdown",
   "metadata": {},
   "source": [
    "The pyspark.sql.Column has many methods that acts on a column and returns a column instance."
   ]
  },
  {
   "cell_type": "code",
   "execution_count": 5,
   "metadata": {},
   "outputs": [
    {
     "name": "stdout",
     "output_type": "stream",
     "text": [
      "+----------------+\n",
      "|(gear IN (2, 3))|\n",
      "+----------------+\n",
      "|           false|\n",
      "|           false|\n",
      "|           false|\n",
      "|            true|\n",
      "|            true|\n",
      "+----------------+\n",
      "only showing top 5 rows\n",
      "\n"
     ]
    }
   ],
   "source": [
    "mtcars.select(mtcars.gear.isin([2,3])).show(5)"
   ]
  },
  {
   "cell_type": "markdown",
   "metadata": {},
   "source": [
    "# Boolean column Expression\n",
    "## between(): true/false if the column value is between a given range"
   ]
  },
  {
   "cell_type": "code",
   "execution_count": 3,
   "metadata": {},
   "outputs": [
    {
     "data": {
      "text/plain": [
       "Column<b'((cyl >= 4) AND (cyl <= 6))'>"
      ]
     },
     "execution_count": 3,
     "metadata": {},
     "output_type": "execute_result"
    }
   ],
   "source": [
    "mpg_between = mtcars.cyl.between(4,6)\n",
    "mpg_between"
   ]
  },
  {
   "cell_type": "code",
   "execution_count": 4,
   "metadata": {},
   "outputs": [
    {
     "name": "stdout",
     "output_type": "stream",
     "text": [
      "+---+---------------------------+\n",
      "|cyl|((cyl >= 4) AND (cyl <= 6))|\n",
      "+---+---------------------------+\n",
      "|  6|                       true|\n",
      "|  6|                       true|\n",
      "|  4|                       true|\n",
      "|  6|                       true|\n",
      "|  8|                      false|\n",
      "+---+---------------------------+\n",
      "only showing top 5 rows\n",
      "\n"
     ]
    }
   ],
   "source": [
    "mtcars.select(mtcars.cyl,mpg_between).show(5)"
   ]
  },
  {
   "cell_type": "markdown",
   "metadata": {},
   "source": [
    "## contains(): true/false if the column value contains a string"
   ]
  },
  {
   "cell_type": "code",
   "execution_count": 5,
   "metadata": {},
   "outputs": [
    {
     "data": {
      "text/plain": [
       "Column<b'contains(model, Ho)'>"
      ]
     },
     "execution_count": 5,
     "metadata": {},
     "output_type": "execute_result"
    }
   ],
   "source": [
    "model_contains = mtcars.model.contains('Ho')\n",
    "model_contains"
   ]
  },
  {
   "cell_type": "code",
   "execution_count": 6,
   "metadata": {},
   "outputs": [
    {
     "name": "stdout",
     "output_type": "stream",
     "text": [
      "+-----------------+-------------------+\n",
      "|            model|contains(model, Ho)|\n",
      "+-----------------+-------------------+\n",
      "|        Mazda RX4|              false|\n",
      "|    Mazda RX4 Wag|              false|\n",
      "|       Datsun 710|              false|\n",
      "|   Hornet 4 Drive|               true|\n",
      "|Hornet Sportabout|               true|\n",
      "+-----------------+-------------------+\n",
      "only showing top 5 rows\n",
      "\n"
     ]
    }
   ],
   "source": [
    "mtcars.select(mtcars.model,model_contains).show(5)"
   ]
  },
  {
   "cell_type": "markdown",
   "metadata": {},
   "source": [
    "## endswith(): true/false if the column value ends with a string"
   ]
  },
  {
   "cell_type": "code",
   "execution_count": 7,
   "metadata": {},
   "outputs": [
    {
     "data": {
      "text/plain": [
       "Column<b'endswith(model, t)'>"
      ]
     },
     "execution_count": 7,
     "metadata": {},
     "output_type": "execute_result"
    }
   ],
   "source": [
    "model_endswith = mtcars.model.endswith('t')\n",
    "model_endswith"
   ]
  },
  {
   "cell_type": "code",
   "execution_count": 8,
   "metadata": {},
   "outputs": [
    {
     "name": "stdout",
     "output_type": "stream",
     "text": [
      "+-----------------+------------------+\n",
      "|            model|endswith(model, t)|\n",
      "+-----------------+------------------+\n",
      "|        Mazda RX4|             false|\n",
      "|    Mazda RX4 Wag|             false|\n",
      "|       Datsun 710|             false|\n",
      "|   Hornet 4 Drive|             false|\n",
      "|Hornet Sportabout|              true|\n",
      "+-----------------+------------------+\n",
      "only showing top 5 rows\n",
      "\n"
     ]
    }
   ],
   "source": [
    "mtcars.select(mtcars.model,model_endswith).show(5)"
   ]
  },
  {
   "cell_type": "markdown",
   "metadata": {},
   "source": [
    "## isNotNull(): true/false if the column value is Not Null"
   ]
  },
  {
   "cell_type": "code",
   "execution_count": 9,
   "metadata": {},
   "outputs": [
    {
     "name": "stdout",
     "output_type": "stream",
     "text": [
      "+------+-----+\n",
      "|height| name|\n",
      "+------+-----+\n",
      "|    80|  Tom|\n",
      "|  null|Alice|\n",
      "+------+-----+\n",
      "\n"
     ]
    }
   ],
   "source": [
    "from pyspark.sql import Row\n",
    "df = spark.createDataFrame([Row(name='Tom',height=80),Row(name='Alice',height=None)])\n",
    "df.show()"
   ]
  },
  {
   "cell_type": "code",
   "execution_count": 10,
   "metadata": {},
   "outputs": [
    {
     "data": {
      "text/plain": [
       "Column<b'(height IS NOT NULL)'>"
      ]
     },
     "execution_count": 10,
     "metadata": {},
     "output_type": "execute_result"
    }
   ],
   "source": [
    "height_isnotnull = df.height.isNotNull()\n",
    "height_isnotnull"
   ]
  },
  {
   "cell_type": "code",
   "execution_count": 11,
   "metadata": {},
   "outputs": [
    {
     "name": "stdout",
     "output_type": "stream",
     "text": [
      "+------+--------------------+\n",
      "|height|(height IS NOT NULL)|\n",
      "+------+--------------------+\n",
      "|    80|                true|\n",
      "|  null|               false|\n",
      "+------+--------------------+\n",
      "\n"
     ]
    }
   ],
   "source": [
    "df.select(df.height,height_isnotnull).show()"
   ]
  },
  {
   "cell_type": "markdown",
   "metadata": {},
   "source": [
    "## isNull( ): true/false if the column value is Null"
   ]
  },
  {
   "cell_type": "code",
   "execution_count": 12,
   "metadata": {},
   "outputs": [
    {
     "data": {
      "text/plain": [
       "Column<b'(height IS NULL)'>"
      ]
     },
     "execution_count": 12,
     "metadata": {},
     "output_type": "execute_result"
    }
   ],
   "source": [
    "height_isnull = df.height.isNull()\n",
    "height_isnull"
   ]
  },
  {
   "cell_type": "code",
   "execution_count": 14,
   "metadata": {},
   "outputs": [
    {
     "name": "stdout",
     "output_type": "stream",
     "text": [
      "+------+----------------+\n",
      "|height|(height IS NULL)|\n",
      "+------+----------------+\n",
      "|    80|           false|\n",
      "|  null|            true|\n",
      "+------+----------------+\n",
      "\n"
     ]
    }
   ],
   "source": [
    "df.select(df.height,height_isnull).show()"
   ]
  },
  {
   "cell_type": "markdown",
   "metadata": {},
   "source": [
    "## like(): true/false if the column value matches a pattern based on *SQL LIKE*."
   ]
  },
  {
   "cell_type": "code",
   "execution_count": 15,
   "metadata": {},
   "outputs": [
    {
     "data": {
      "text/plain": [
       "Column<b'model LIKE Ho%'>"
      ]
     },
     "execution_count": 15,
     "metadata": {},
     "output_type": "execute_result"
    }
   ],
   "source": [
    "model_like = mtcars.model.like('Ho%')\n",
    "model_like"
   ]
  },
  {
   "cell_type": "code",
   "execution_count": 16,
   "metadata": {},
   "outputs": [
    {
     "name": "stdout",
     "output_type": "stream",
     "text": [
      "+-----------------+--------------+\n",
      "|            model|model LIKE Ho%|\n",
      "+-----------------+--------------+\n",
      "|        Mazda RX4|         false|\n",
      "|    Mazda RX4 Wag|         false|\n",
      "|       Datsun 710|         false|\n",
      "|   Hornet 4 Drive|          true|\n",
      "|Hornet Sportabout|          true|\n",
      "+-----------------+--------------+\n",
      "only showing top 5 rows\n",
      "\n"
     ]
    }
   ],
   "source": [
    "mtcars.select(mtcars.model,model_like).show(5)"
   ]
  },
  {
   "cell_type": "markdown",
   "metadata": {},
   "source": [
    "## rlike( ): true/false if the column value matches a pattern based on a *SQL RLIKE* (like with regex)"
   ]
  },
  {
   "cell_type": "code",
   "execution_count": 17,
   "metadata": {},
   "outputs": [
    {
     "data": {
      "text/plain": [
       "Column<b'model RLIKE t$'>"
      ]
     },
     "execution_count": 17,
     "metadata": {},
     "output_type": "execute_result"
    }
   ],
   "source": [
    "model_rlike = mtcars.model.rlike(\"t$\")\n",
    "model_rlike"
   ]
  },
  {
   "cell_type": "code",
   "execution_count": 19,
   "metadata": {},
   "outputs": [
    {
     "name": "stdout",
     "output_type": "stream",
     "text": [
      "+-------------------+--------------+\n",
      "|              model|model RLIKE t$|\n",
      "+-------------------+--------------+\n",
      "|          Mazda RX4|         false|\n",
      "|      Mazda RX4 Wag|         false|\n",
      "|         Datsun 710|         false|\n",
      "|     Hornet 4 Drive|         false|\n",
      "|  Hornet Sportabout|          true|\n",
      "|            Valiant|          true|\n",
      "|         Duster 360|         false|\n",
      "|          Merc 240D|         false|\n",
      "|           Merc 230|         false|\n",
      "|           Merc 280|         false|\n",
      "|          Merc 280C|         false|\n",
      "|         Merc 450SE|         false|\n",
      "|         Merc 450SL|         false|\n",
      "|        Merc 450SLC|         false|\n",
      "| Cadillac Fleetwood|         false|\n",
      "|Lincoln Continental|         false|\n",
      "|  Chrysler Imperial|         false|\n",
      "|           Fiat 128|         false|\n",
      "|        Honda Civic|         false|\n",
      "|     Toyota Corolla|         false|\n",
      "+-------------------+--------------+\n",
      "only showing top 20 rows\n",
      "\n"
     ]
    }
   ],
   "source": [
    "mtcars.select(mtcars.model,model_rlike).show()"
   ]
  },
  {
   "cell_type": "markdown",
   "metadata": {},
   "source": [
    "## startswith( ): true/false if the column value starts with a string"
   ]
  },
  {
   "cell_type": "code",
   "execution_count": 20,
   "metadata": {},
   "outputs": [
    {
     "data": {
      "text/plain": [
       "Column<b'startswith(model, Merc)'>"
      ]
     },
     "execution_count": 20,
     "metadata": {},
     "output_type": "execute_result"
    }
   ],
   "source": [
    "model_starswith = mtcars.model.startswith(\"Merc\")\n",
    "model_starswith"
   ]
  },
  {
   "cell_type": "code",
   "execution_count": 21,
   "metadata": {},
   "outputs": [
    {
     "name": "stdout",
     "output_type": "stream",
     "text": [
      "+-------------------+-----------------------+\n",
      "|              model|startswith(model, Merc)|\n",
      "+-------------------+-----------------------+\n",
      "|          Mazda RX4|                  false|\n",
      "|      Mazda RX4 Wag|                  false|\n",
      "|         Datsun 710|                  false|\n",
      "|     Hornet 4 Drive|                  false|\n",
      "|  Hornet Sportabout|                  false|\n",
      "|            Valiant|                  false|\n",
      "|         Duster 360|                  false|\n",
      "|          Merc 240D|                   true|\n",
      "|           Merc 230|                   true|\n",
      "|           Merc 280|                   true|\n",
      "|          Merc 280C|                   true|\n",
      "|         Merc 450SE|                   true|\n",
      "|         Merc 450SL|                   true|\n",
      "|        Merc 450SLC|                   true|\n",
      "| Cadillac Fleetwood|                  false|\n",
      "|Lincoln Continental|                  false|\n",
      "|  Chrysler Imperial|                  false|\n",
      "|           Fiat 128|                  false|\n",
      "|        Honda Civic|                  false|\n",
      "|     Toyota Corolla|                  false|\n",
      "+-------------------+-----------------------+\n",
      "only showing top 20 rows\n",
      "\n"
     ]
    }
   ],
   "source": [
    "mtcars.select(mtcars.model,model_starswith).show()"
   ]
  },
  {
   "cell_type": "code",
   "execution_count": 22,
   "metadata": {},
   "outputs": [],
   "source": [
    "from pyspark.sql import functions as F"
   ]
  },
  {
   "cell_type": "markdown",
   "metadata": {},
   "source": [
    "## abs( ): create column expression that returns absolute values of a column"
   ]
  },
  {
   "cell_type": "code",
   "execution_count": 23,
   "metadata": {},
   "outputs": [],
   "source": [
    "from pyspark.sql import Row"
   ]
  },
  {
   "cell_type": "code",
   "execution_count": 24,
   "metadata": {},
   "outputs": [
    {
     "name": "stdout",
     "output_type": "stream",
     "text": [
      "+---+\n",
      "|  x|\n",
      "+---+\n",
      "|  1|\n",
      "| -1|\n",
      "| -2|\n",
      "+---+\n",
      "\n"
     ]
    }
   ],
   "source": [
    "df = sc.parallelize([Row(x=1),Row(x=-1),Row(x=-2)]).toDF()\n",
    "df.show()"
   ]
  },
  {
   "cell_type": "code",
   "execution_count": 25,
   "metadata": {},
   "outputs": [
    {
     "data": {
      "text/plain": [
       "Column<b'abs(x)'>"
      ]
     },
     "execution_count": 25,
     "metadata": {},
     "output_type": "execute_result"
    }
   ],
   "source": [
    "x_abs = F.abs(df.x)\n",
    "x_abs"
   ]
  },
  {
   "cell_type": "code",
   "execution_count": 26,
   "metadata": {},
   "outputs": [
    {
     "name": "stdout",
     "output_type": "stream",
     "text": [
      "+---+------+\n",
      "|  x|abs(x)|\n",
      "+---+------+\n",
      "|  1|     1|\n",
      "| -1|     1|\n",
      "| -2|     2|\n",
      "+---+------+\n",
      "\n"
     ]
    }
   ],
   "source": [
    "df.select(df.x,x_abs).show()"
   ]
  },
  {
   "cell_type": "markdown",
   "metadata": {},
   "source": [
    "## corr( ): create column expression that returns pearson corrleation coefficient between two columns"
   ]
  },
  {
   "cell_type": "code",
   "execution_count": 27,
   "metadata": {},
   "outputs": [
    {
     "data": {
      "text/plain": [
       "Column<b'corr(drat, wt)'>"
      ]
     },
     "execution_count": 27,
     "metadata": {},
     "output_type": "execute_result"
    }
   ],
   "source": [
    "drat_wt_corr = F.corr(mtcars.drat,mtcars.wt)\n",
    "drat_wt_corr"
   ]
  },
  {
   "cell_type": "code",
   "execution_count": 28,
   "metadata": {},
   "outputs": [
    {
     "name": "stdout",
     "output_type": "stream",
     "text": [
      "+-------------------+\n",
      "|     corr(drat, wt)|\n",
      "+-------------------+\n",
      "|-0.7124406466973717|\n",
      "+-------------------+\n",
      "\n"
     ]
    }
   ],
   "source": [
    "mtcars.select(drat_wt_corr).show()"
   ]
  },
  {
   "cell_type": "markdown",
   "metadata": {},
   "source": [
    "## array( ): create column expression that merge multiple column values into an array"
   ]
  },
  {
   "cell_type": "code",
   "execution_count": 29,
   "metadata": {},
   "outputs": [
    {
     "data": {
      "text/plain": [
       "[Column<b'mpg'>,\n",
       " Column<b'cyl'>,\n",
       " Column<b'disp'>,\n",
       " Column<b'hp'>,\n",
       " Column<b'drat'>,\n",
       " Column<b'wt'>,\n",
       " Column<b'qsec'>,\n",
       " Column<b'vs'>,\n",
       " Column<b'am'>,\n",
       " Column<b'gear'>,\n",
       " Column<b'carb'>]"
      ]
     },
     "execution_count": 29,
     "metadata": {},
     "output_type": "execute_result"
    }
   ],
   "source": [
    "cols = [eval('mtcars.'+col) for col in mtcars.columns[1:]]\n",
    "cols"
   ]
  },
  {
   "cell_type": "code",
   "execution_count": 30,
   "metadata": {},
   "outputs": [
    {
     "data": {
      "text/plain": [
       "Column<b'array(mpg, cyl, disp, hp, drat, wt, qsec, vs, am, gear, carb)'>"
      ]
     },
     "execution_count": 30,
     "metadata": {},
     "output_type": "execute_result"
    }
   ],
   "source": [
    "cols_array = F.array(cols)\n",
    "cols_array"
   ]
  },
  {
   "cell_type": "code",
   "execution_count": 31,
   "metadata": {},
   "outputs": [
    {
     "name": "stdout",
     "output_type": "stream",
     "text": [
      "+-----------------------------------------------------------------+\n",
      "|array(mpg, cyl, disp, hp, drat, wt, qsec, vs, am, gear, carb)    |\n",
      "+-----------------------------------------------------------------+\n",
      "|[21.0, 6.0, 160.0, 110.0, 3.9, 2.62, 16.46, 0.0, 1.0, 4.0, 4.0]  |\n",
      "|[21.0, 6.0, 160.0, 110.0, 3.9, 2.875, 17.02, 0.0, 1.0, 4.0, 4.0] |\n",
      "|[22.8, 4.0, 108.0, 93.0, 3.85, 2.32, 18.61, 1.0, 1.0, 4.0, 1.0]  |\n",
      "|[21.4, 6.0, 258.0, 110.0, 3.08, 3.215, 19.44, 1.0, 0.0, 3.0, 1.0]|\n",
      "|[18.7, 8.0, 360.0, 175.0, 3.15, 3.44, 17.02, 0.0, 0.0, 3.0, 2.0] |\n",
      "|[18.1, 6.0, 225.0, 105.0, 2.76, 3.46, 20.22, 1.0, 0.0, 3.0, 1.0] |\n",
      "|[14.3, 8.0, 360.0, 245.0, 3.21, 3.57, 15.84, 0.0, 0.0, 3.0, 4.0] |\n",
      "|[24.4, 4.0, 146.7, 62.0, 3.69, 3.19, 20.0, 1.0, 0.0, 4.0, 2.0]   |\n",
      "|[22.8, 4.0, 140.8, 95.0, 3.92, 3.15, 22.9, 1.0, 0.0, 4.0, 2.0]   |\n",
      "|[19.2, 6.0, 167.6, 123.0, 3.92, 3.44, 18.3, 1.0, 0.0, 4.0, 4.0]  |\n",
      "|[17.8, 6.0, 167.6, 123.0, 3.92, 3.44, 18.9, 1.0, 0.0, 4.0, 4.0]  |\n",
      "|[16.4, 8.0, 275.8, 180.0, 3.07, 4.07, 17.4, 0.0, 0.0, 3.0, 3.0]  |\n",
      "|[17.3, 8.0, 275.8, 180.0, 3.07, 3.73, 17.6, 0.0, 0.0, 3.0, 3.0]  |\n",
      "|[15.2, 8.0, 275.8, 180.0, 3.07, 3.78, 18.0, 0.0, 0.0, 3.0, 3.0]  |\n",
      "|[10.4, 8.0, 472.0, 205.0, 2.93, 5.25, 17.98, 0.0, 0.0, 3.0, 4.0] |\n",
      "|[10.4, 8.0, 460.0, 215.0, 3.0, 5.424, 17.82, 0.0, 0.0, 3.0, 4.0] |\n",
      "|[14.7, 8.0, 440.0, 230.0, 3.23, 5.345, 17.42, 0.0, 0.0, 3.0, 4.0]|\n",
      "|[32.4, 4.0, 78.7, 66.0, 4.08, 2.2, 19.47, 1.0, 1.0, 4.0, 1.0]    |\n",
      "|[30.4, 4.0, 75.7, 52.0, 4.93, 1.615, 18.52, 1.0, 1.0, 4.0, 2.0]  |\n",
      "|[33.9, 4.0, 71.1, 65.0, 4.22, 1.835, 19.9, 1.0, 1.0, 4.0, 1.0]   |\n",
      "+-----------------------------------------------------------------+\n",
      "only showing top 20 rows\n",
      "\n"
     ]
    }
   ],
   "source": [
    "mtcars.select(cols_array).show(truncate=False)"
   ]
  }
 ],
 "metadata": {
  "kernelspec": {
   "display_name": "Python 3",
   "language": "python",
   "name": "python3"
  },
  "language_info": {
   "codemirror_mode": {
    "name": "ipython",
    "version": 3
   },
   "file_extension": ".py",
   "mimetype": "text/x-python",
   "name": "python",
   "nbconvert_exporter": "python",
   "pygments_lexer": "ipython3",
   "version": "3.7.6"
  }
 },
 "nbformat": 4,
 "nbformat_minor": 4
}
